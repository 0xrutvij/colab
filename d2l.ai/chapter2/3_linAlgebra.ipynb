{
  "nbformat": 4,
  "nbformat_minor": 0,
  "metadata": {
    "colab": {
      "provenance": [],
      "authorship_tag": "ABX9TyM4Ez+js7PCp4j4HyLZ4By1",
      "include_colab_link": true
    },
    "kernelspec": {
      "name": "python3",
      "display_name": "Python 3"
    },
    "language_info": {
      "name": "python"
    }
  },
  "cells": [
    {
      "cell_type": "markdown",
      "metadata": {
        "id": "view-in-github",
        "colab_type": "text"
      },
      "source": [
        "<a href=\"https://colab.research.google.com/github/0xrutvij/colab/blob/main/d2l.ai/chapter2/3_linAlgebra.ipynb\" target=\"_parent\"><img src=\"https://colab.research.google.com/assets/colab-badge.svg\" alt=\"Open In Colab\"/></a>"
      ]
    },
    {
      "cell_type": "code",
      "execution_count": 1,
      "metadata": {
        "colab": {
          "base_uri": "https://localhost:8080/"
        },
        "id": "-3CddJnlv9-5",
        "outputId": "37a6a971-4629-421a-c5fe-39cbcabf9834"
      },
      "outputs": [
        {
          "output_type": "execute_result",
          "data": {
            "text/plain": [
              "(tensor(5.), tensor(6.), tensor(1.5000), tensor(9.))"
            ]
          },
          "metadata": {},
          "execution_count": 1
        }
      ],
      "source": [
        "import torch\n",
        "\n",
        "x = torch.tensor(3.0)\n",
        "y = torch.tensor(2.0)\n",
        "\n",
        "x + y, x * y, x / y, x ** y"
      ]
    },
    {
      "cell_type": "markdown",
      "source": [
        "$\\mathbf{A, B} \\in \\mathbb{R}^{m \\; \\times \\; n}$\n",
        "\n",
        "$m = 2, n = 3$"
      ],
      "metadata": {
        "id": "8ZGQHCJWzPAh"
      }
    },
    {
      "cell_type": "code",
      "source": [
        "m = 2\n",
        "n = 3\n",
        "shape = (m, n)\n",
        "A = torch.randn(shape)\n",
        "B = torch.randn(shape)"
      ],
      "metadata": {
        "id": "gLUom2cSzQMx"
      },
      "execution_count": 3,
      "outputs": []
    },
    {
      "cell_type": "markdown",
      "source": [
        "\n",
        "\n",
        "*Hadamard product* : $\\mathbf{A} \\odot \\mathbf{B}$"
      ],
      "metadata": {
        "id": "FOYOPTv1xzjQ"
      }
    },
    {
      "cell_type": "code",
      "source": [
        "display(A * B)"
      ],
      "metadata": {
        "colab": {
          "base_uri": "https://localhost:8080/",
          "height": 51
        },
        "id": "XnelQQxdxwG9",
        "outputId": "8d87348a-937f-4d14-c27d-43d5b7d98f63"
      },
      "execution_count": 5,
      "outputs": [
        {
          "output_type": "display_data",
          "data": {
            "text/plain": [
              "tensor([[0.1444, 0.0238, 0.0476],\n",
              "        [0.1552, 2.1522, 0.1045]])"
            ]
          },
          "metadata": {}
        }
      ]
    },
    {
      "cell_type": "markdown",
      "source": [
        "$\\mathbf{x, y} \\in \\mathbb{R}^d$"
      ],
      "metadata": {
        "id": "p6TRab0D0tYO"
      }
    },
    {
      "cell_type": "code",
      "source": [
        "d = (7, 1)\n",
        "\n",
        "x = torch.ones(d, dtype=torch.float32)\n",
        "y = torch.ones(d, dtype=torch.float32)"
      ],
      "metadata": {
        "id": "tX8gLItIzrl1"
      },
      "execution_count": 6,
      "outputs": []
    },
    {
      "cell_type": "markdown",
      "source": [
        "*dot product*:\n",
        "\n",
        "- $⟨ \\mathbf{x}, \\mathbf{y} \\rangle$\n",
        "- $\\mathbf{x}^\\top \\mathbf{y}$\n",
        "\n"
      ],
      "metadata": {
        "id": "Ubr6gkUO3OZV"
      }
    },
    {
      "cell_type": "code",
      "source": [
        "x.T @ y"
      ],
      "metadata": {
        "colab": {
          "base_uri": "https://localhost:8080/"
        },
        "id": "02azxbao3Ahy",
        "outputId": "b8cc9dc8-04f4-4b76-b3f7-98e1d22d61ab"
      },
      "execution_count": 10,
      "outputs": [
        {
          "output_type": "execute_result",
          "data": {
            "text/plain": [
              "tensor([[7.]])"
            ]
          },
          "metadata": {},
          "execution_count": 10
        }
      ]
    },
    {
      "cell_type": "markdown",
      "source": [
        "## 2.3.11 Norms\n",
        "\n",
        "Norm is a function \n",
        "\n",
        "$\\| \\cdot \\|: \\mathbb{R}^d \\mapsto \\mathbb{R}$\n",
        "\n",
        "Let $\\mathbf{x} \\in \\mathbb{R}^d$ and $\\alpha \\in \\mathbb{R}$\n",
        "\n",
        "1. Scaling elements of a vector, scales its norm\n",
        "\n",
        "$$\\| \\alpha \\mathbf{x} \\| = |\\alpha| \\|x\\|$$\n",
        "\n",
        "2. For any vectors $\\mathbf{x}$ and $\\mathbf{y}$: norms satisfy the triangle inequality:\n",
        "\n",
        "$$ \\|\\mathbf{x} + \\mathbf{y}\\| \\leq \\|\\mathbf{x}\\| + \\|\\mathbf{y}\\|$$\n",
        "\n",
        "3. The norm is nonngegative.\n",
        "\n",
        "\n",
        "Types of Norm:\n",
        "\n",
        "1. $\\ell_2$ norm (euclidean distance)\n",
        "\n",
        "$$\\| \\mathbf{x} \\|_2 = \\sqrt{\\sum_{i=1}^{n} x_i^2}$$\n",
        "\n",
        "2. $\\ell_1$ norm (Manhattan distance)\n",
        "\n",
        "$$ \\| \\mathbf{x} \\|_1 = \\sum_{i=1}^{n} |x_i| $$\n",
        "\n",
        "$\\ell_1$ and $\\ell_2$ norms are special cases of the more general $\\ell_p$ *norms*:\n",
        "\n",
        "$$\\| \\mathbf{x} \\|_p = \\left( \\sum_{i=1}^{n} |x_i|^p \\right)^{1/p}$$\n",
        "\n",
        "\n",
        "Considering matrices to be linear operators, their norm is terms of the the effect they have on on vectors they operate on.\n",
        "\n",
        "i.e. how much longer is the matrix-vector product $\\mathbf{Xv}$ could be relative to $\\mathbf{v}$. This leads to *spectral norm*.\n",
        "\n",
        "*Frobenius norm* is easier to compute and is analogous to $\\ell_2$ norm of a vector\n",
        "\n",
        "$$\\| \\mathbf{X} \\|_{F} = \\sqrt{\\sum_{i=1}^{m} \\sum_{j=1}^{n} x_{ij}^2 }$$"
      ],
      "metadata": {
        "id": "AbvWqU306xsB"
      }
    },
    {
      "cell_type": "code",
      "source": [],
      "metadata": {
        "id": "MrQhpBIc6xVQ"
      },
      "execution_count": null,
      "outputs": []
    },
    {
      "cell_type": "code",
      "source": [],
      "metadata": {
        "id": "ZDezzckR3CMG"
      },
      "execution_count": null,
      "outputs": []
    }
  ]
}