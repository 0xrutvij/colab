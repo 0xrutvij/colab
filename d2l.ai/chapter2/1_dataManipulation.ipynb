{
  "nbformat": 4,
  "nbformat_minor": 0,
  "metadata": {
    "colab": {
      "provenance": [],
      "authorship_tag": "ABX9TyPf6xHmTG9c4eVwKP/sbMPH",
      "include_colab_link": true
    },
    "kernelspec": {
      "name": "python3",
      "display_name": "Python 3"
    },
    "language_info": {
      "name": "python"
    }
  },
  "cells": [
    {
      "cell_type": "markdown",
      "metadata": {
        "id": "view-in-github",
        "colab_type": "text"
      },
      "source": [
        "<a href=\"https://colab.research.google.com/github/0xrutvij/colab/blob/main/d2l.ai/chapter2/1_dataManipulation.ipynb\" target=\"_parent\"><img src=\"https://colab.research.google.com/assets/colab-badge.svg\" alt=\"Open In Colab\"/></a>"
      ]
    },
    {
      "cell_type": "code",
      "execution_count": 11,
      "metadata": {
        "id": "UQe2_vwzid99"
      },
      "outputs": [],
      "source": [
        "import torch"
      ]
    },
    {
      "cell_type": "markdown",
      "source": [
        "## 2.1.5 Saving Memory"
      ],
      "metadata": {
        "id": "sbNivLJNraB1"
      }
    },
    {
      "cell_type": "code",
      "source": [
        "X = torch.arange(6).reshape((3, 2))\n",
        "Y = torch.arange(2).reshape((1, 2))\n",
        "\n",
        "display(X, Y)"
      ],
      "metadata": {
        "id": "11BJ0CYErQgm"
      },
      "execution_count": null,
      "outputs": []
    },
    {
      "cell_type": "code",
      "source": [
        "Z = torch.zeros((3, 2))\n",
        "before = id(Z)\n",
        "Z[:] = X + Y\n",
        "\n",
        "before, id(Z)"
      ],
      "metadata": {
        "id": "S3MQ5ELSslad"
      },
      "execution_count": null,
      "outputs": []
    },
    {
      "cell_type": "markdown",
      "source": [
        "## 2.1.6 Python object inter-conversion"
      ],
      "metadata": {
        "id": "lrckN0wutlty"
      }
    },
    {
      "cell_type": "code",
      "source": [
        "A = X.numpy()\n",
        "B = torch.from_numpy(A)\n",
        "\n",
        "display(A, B)\n",
        "\n",
        "A[0, 0] = 10\n",
        "B[-1, -1] = 100\n",
        "\n",
        "\n",
        "display(A, B)"
      ],
      "metadata": {
        "id": "TjRIzNfVtQn2"
      },
      "execution_count": null,
      "outputs": []
    }
  ]
}